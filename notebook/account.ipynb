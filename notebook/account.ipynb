{
 "cells": [
  {
   "cell_type": "code",
   "execution_count": 1,
   "metadata": {},
   "outputs": [
    {
     "data": {
      "text/plain": [
       "{'id': None,\n",
       " 'account_id': 1,\n",
       " 'keycode': '685954ae3d0f11ed9f7946c3a4414e32',\n",
       " 'passcode': 794105,\n",
       " 'created_at': datetime.datetime(2022, 9, 25, 20, 19, 50, 275796),\n",
       " 'expire_at': datetime.datetime(2022, 9, 25, 20, 29, 50, 275796)}"
      ]
     },
     "execution_count": 1,
     "metadata": {},
     "output_type": "execute_result"
    }
   ],
   "source": [
    "from service import account_svc\n",
    "\n",
    "# account_svc.generate_login_code(\"sunyang76@gmail.com\")\n",
    "account_svc.create_jwt_token(\"sunyang76@gmail.com\", \"Yang Sun\", 1233455);\n",
    "\n"
   ]
  }
 ],
 "metadata": {
  "kernelspec": {
   "display_name": "Python 3.10.4 ('sc')",
   "language": "python",
   "name": "python3"
  },
  "language_info": {
   "codemirror_mode": {
    "name": "ipython",
    "version": 3
   },
   "file_extension": ".py",
   "mimetype": "text/x-python",
   "name": "python",
   "nbconvert_exporter": "python",
   "pygments_lexer": "ipython3",
   "version": "3.10.4"
  },
  "orig_nbformat": 4,
  "vscode": {
   "interpreter": {
    "hash": "b398b7c0050a8c67a21e06d08f572920d87fb8e49fea15fe4c44716037b8f61c"
   }
  }
 },
 "nbformat": 4,
 "nbformat_minor": 2
}
